{
 "cells": [
  {
   "cell_type": "code",
   "execution_count": 1,
   "metadata": {},
   "outputs": [],
   "source": [
    "import torch\n",
    "import net"
   ]
  },
  {
   "cell_type": "code",
   "execution_count": 2,
   "metadata": {},
   "outputs": [],
   "source": [
    "device = torch.device('cuda:0')\n",
    "batch_size = 2\n",
    "img_size = 256\n",
    "path = ('YSGR/*.jpg', 'dataB/*.jpg')\n",
    "lr = 0.0001\n",
    "betas = (0, 0.999)\n",
    "light = False\n",
    "weight = [1,10,10,1500,0,20]\n",
    "weight_decay = 0.0001\n",
    "ID = 1\n",
    "total_iteration = 150000"
   ]
  },
  {
   "cell_type": "code",
   "execution_count": 3,
   "metadata": {},
   "outputs": [],
   "source": [
    "Net = net.UGATIT(device = device, batch_size = batch_size, img_size = img_size, path = path,\n",
    "           lr = lr, betas = betas, light = light, weight = weight, weight_decay = weight_decay,\n",
    "           ID = ID, total_iteration = total_iteration\n",
    "          )"
   ]
  },
  {
   "cell_type": "code",
   "execution_count": 4,
   "metadata": {},
   "outputs": [
    {
     "name": "stdout",
     "output_type": "stream",
     "text": [
      "--------------------------\n",
      "      125K iter Load \n",
      "--------------------------\n"
     ]
    }
   ],
   "source": [
    "Net.load('lastest')"
   ]
  },
  {
   "cell_type": "code",
   "execution_count": null,
   "metadata": {},
   "outputs": [
    {
     "name": "stderr",
     "output_type": "stream",
     "text": [
      "[125/150] [ModelA G : 4.486 | D : 0.723] [ModelB G : 4.476 | D : 0.784]: 100%|█████| 1000/1000 [19:59<00:00,  1.20s/it]\n",
      "[126/150] [ModelA G : 4.208 | D : 0.986] [ModelB G : 4.571 | D : 0.686]: 100%|█████| 1000/1000 [20:16<00:00,  1.22s/it]\n",
      "[127/150] [ModelA G : 4.216 | D : 0.724] [ModelB G : 4.256 | D : 1.295]: 100%|█████| 1000/1000 [20:30<00:00,  1.23s/it]\n",
      "[128/150] [ModelA G : 4.080 | D : 1.095] [ModelB G : 3.562 | D : 1.056]: 100%|█████| 1000/1000 [19:37<00:00,  1.18s/it]\n",
      "[129/150] [ModelA G : 3.711 | D : 0.988] [ModelB G : 5.153 | D : 1.232]: 100%|█████| 1000/1000 [19:33<00:00,  1.17s/it]\n",
      "[130/150] [ModelA G : 4.593 | D : 1.157] [ModelB G : 3.962 | D : 1.394]: 100%|█████| 1000/1000 [19:45<00:00,  1.19s/it]\n",
      "[131/150] [ModelA G : 3.898 | D : 1.084] [ModelB G : 3.692 | D : 1.462]: 100%|█████| 1000/1000 [19:34<00:00,  1.17s/it]\n",
      "[132/150] [ModelA G : 3.703 | D : 1.342] [ModelB G : 3.714 | D : 1.194]: 100%|█████| 1000/1000 [19:33<00:00,  1.17s/it]\n",
      "[133/150] [ModelA G : 3.990 | D : 1.417] [ModelB G : 3.748 | D : 1.182]: 100%|█████| 1000/1000 [19:34<00:00,  1.17s/it]\n",
      "[134/150] [ModelA G : 4.377 | D : 0.717] [ModelB G : 4.081 | D : 0.846]: 100%|█████| 1000/1000 [19:44<00:00,  1.18s/it]\n",
      "[135/150] [ModelA G : 5.059 | D : 0.663] [ModelB G : 4.516 | D : 1.123]:  10%|▋      | 95/1000 [01:50<17:32,  1.16s/it]"
     ]
    }
   ],
   "source": [
    "Net.train()"
   ]
  },
  {
   "cell_type": "code",
   "execution_count": 9,
   "metadata": {},
   "outputs": [],
   "source": [
    "import os\n",
    "import glob"
   ]
  },
  {
   "cell_type": "code",
   "execution_count": 12,
   "metadata": {},
   "outputs": [
    {
     "data": {
      "text/plain": [
       "<function nt.rename(src, dst, *, src_dir_fd=None, dst_dir_fd=None)>"
      ]
     },
     "execution_count": 12,
     "metadata": {},
     "output_type": "execute_result"
    }
   ],
   "source": [
    "os.rename"
   ]
  },
  {
   "cell_type": "code",
   "execution_count": 38,
   "metadata": {},
   "outputs": [],
   "source": [
    "A = glob.glob('1/model/*.pt')\n",
    "for i in range(2,120):\n",
    "    name = '1/model/{:03}_k_model.pt'.format(i)\n",
    "    if not name in A:\n",
    "        continue\n",
    "    if i % 10 == 1:\n",
    "        os.rename(name, '1/model/{:03}_k_model.pt'.format(i-1))\n",
    "    else:\n",
    "        os.remove(name)"
   ]
  },
  {
   "cell_type": "code",
   "execution_count": 42,
   "metadata": {},
   "outputs": [],
   "source": [
    "A = glob.glob('1/model/*.pt')\n",
    "\n"
   ]
  },
  {
   "cell_type": "code",
   "execution_count": 30,
   "metadata": {},
   "outputs": [],
   "source": [
    "os.rename('1/1234.txt', '1/12345.txt')"
   ]
  },
  {
   "cell_type": "code",
   "execution_count": 28,
   "metadata": {},
   "outputs": [
    {
     "ename": "FileNotFoundError",
     "evalue": "[WinError 2] 지정된 파일을 찾을 수 없습니다: 'D:\\\\Jupyter\\\\AICHALLENGE/1/model/102_k_model.pt' -> 'D:\\\\Jupyter\\\\AICHALLENGE/1/model/102_k_model_.pt'",
     "output_type": "error",
     "traceback": [
      "\u001b[1;31m---------------------------------------------------------------------------\u001b[0m",
      "\u001b[1;31mFileNotFoundError\u001b[0m                         Traceback (most recent call last)",
      "\u001b[1;32m<ipython-input-28-68c4235b4b07>\u001b[0m in \u001b[0;36m<module>\u001b[1;34m\u001b[0m\n\u001b[1;32m----> 1\u001b[1;33m \u001b[0mos\u001b[0m\u001b[1;33m.\u001b[0m\u001b[0mrename\u001b[0m\u001b[1;33m(\u001b[0m\u001b[1;34m'D:\\\\Jupyter\\\\AICHALLENGE/'\u001b[0m\u001b[1;33m+\u001b[0m\u001b[0mname\u001b[0m\u001b[1;33m,\u001b[0m \u001b[1;34m'D:\\\\Jupyter\\\\AICHALLENGE/1/model/102_k_model_.pt'\u001b[0m\u001b[1;33m)\u001b[0m\u001b[1;33m\u001b[0m\u001b[1;33m\u001b[0m\u001b[0m\n\u001b[0m",
      "\u001b[1;31mFileNotFoundError\u001b[0m: [WinError 2] 지정된 파일을 찾을 수 없습니다: 'D:\\\\Jupyter\\\\AICHALLENGE/1/model/102_k_model.pt' -> 'D:\\\\Jupyter\\\\AICHALLENGE/1/model/102_k_model_.pt'"
     ]
    }
   ],
   "source": [
    "os.rename(name, 'D:\\\\Jupyter\\\\AICHALLENGE/1/model/102_k_model_.pt')"
   ]
  },
  {
   "cell_type": "code",
   "execution_count": 43,
   "metadata": {},
   "outputs": [
    {
     "data": {
      "text/plain": [
       "['1/model\\\\010_k_model.pt',\n",
       " '1/model\\\\020_k_model.pt',\n",
       " '1/model\\\\030_k_model.pt',\n",
       " '1/model\\\\040_k_model.pt',\n",
       " '1/model\\\\050_k_model.pt',\n",
       " '1/model\\\\060_k_model.pt',\n",
       " '1/model\\\\070_k_model.pt',\n",
       " '1/model\\\\080_k_model.pt',\n",
       " '1/model\\\\090_k_model.pt',\n",
       " '1/model\\\\110_k_model.pt',\n",
       " '1/model\\\\111_k_model.pt',\n",
       " '1/model\\\\112_k_model.pt',\n",
       " '1/model\\\\113_k_model.pt',\n",
       " '1/model\\\\114_k_model.pt',\n",
       " '1/model\\\\115_k_model.pt',\n",
       " '1/model\\\\116_k_model.pt',\n",
       " '1/model\\\\117_k_model.pt',\n",
       " '1/model\\\\118_k_model.pt',\n",
       " '1/model\\\\119_k_model.pt',\n",
       " '1/model\\\\120_k_model.pt',\n",
       " '1/model\\\\121_k_model.pt',\n",
       " '1/model\\\\122_k_model.pt',\n",
       " '1/model\\\\123_k_model.pt',\n",
       " '1/model\\\\124_k_model.pt',\n",
       " '1/model\\\\125_k_model.pt',\n",
       " '1/model\\\\126_k_model.pt',\n",
       " '1/model\\\\lastest_model.pt']"
      ]
     },
     "execution_count": 43,
     "metadata": {},
     "output_type": "execute_result"
    }
   ],
   "source": [
    "A"
   ]
  },
  {
   "cell_type": "code",
   "execution_count": 41,
   "metadata": {},
   "outputs": [
    {
     "data": {
      "text/plain": [
       "'1/model/119_k_model.pt'"
      ]
     },
     "execution_count": 41,
     "metadata": {},
     "output_type": "execute_result"
    }
   ],
   "source": [
    "name"
   ]
  },
  {
   "cell_type": "code",
   "execution_count": null,
   "metadata": {},
   "outputs": [],
   "source": []
  }
 ],
 "metadata": {
  "kernelspec": {
   "display_name": "Python 3",
   "language": "python",
   "name": "python3"
  },
  "language_info": {
   "codemirror_mode": {
    "name": "ipython",
    "version": 3
   },
   "file_extension": ".py",
   "mimetype": "text/x-python",
   "name": "python",
   "nbconvert_exporter": "python",
   "pygments_lexer": "ipython3",
   "version": "3.6.10"
  }
 },
 "nbformat": 4,
 "nbformat_minor": 4
}
